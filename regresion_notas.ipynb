{
  "nbformat": 4,
  "nbformat_minor": 0,
  "metadata": {
    "colab": {
      "provenance": []
    },
    "kernelspec": {
      "name": "python3",
      "display_name": "Python 3"
    },
    "language_info": {
      "name": "python"
    }
  },
  "cells": [
    {
      "cell_type": "code",
      "execution_count": 1,
      "metadata": {
        "colab": {
          "base_uri": "https://localhost:8080/"
        },
        "id": "5NQWuyUP0ieS",
        "outputId": "fcc44187-5361-4b19-80eb-e37cd0f17284"
      },
      "outputs": [
        {
          "output_type": "stream",
          "name": "stdout",
          "text": [
            "--- Evaluación del Modelo ---\n",
            "Error Cuadrático Medio (MSE): 0.0964\n",
            "Raíz del Error Cuadrático Medio (RMSE): 0.3104\n",
            "Coeficiente de Determinación (R^2): 0.9926\n",
            "\n",
            "--- Coeficientes del Modelo ---\n",
            "              Nota_01   Nota_02   Nota_03\n",
            "Coeficiente  0.302276  0.197508  0.500407\n",
            "\n",
            "--- Intercepto del Modelo ---\n",
            "Intercepto: 0.0037\n"
          ]
        }
      ],
      "source": [
        "import pandas as pd\n",
        "from sklearn.model_selection import train_test_split\n",
        "from sklearn.linear_model import LinearRegression\n",
        "from sklearn.metrics import mean_squared_error, r2_score\n",
        "import numpy as np\n",
        "\n",
        "# Cargar los datos\n",
        "\n",
        "try:\n",
        "    X = pd.read_csv('X_regression.csv')\n",
        "    Y = pd.read_csv('Y_regression.csv')\n",
        "except FileNotFoundError:\n",
        "    print(\"Asegúrate de que los archivos 'X_regression.csv' y 'Y_regression.csv' estén cargados en Colab.\")\n",
        "\n",
        "\n",
        "\n",
        "# Dividir los datos en conjuntos de entrenamiento y prueba\n",
        "# 80% para entrenamiento, 20% para prueba\n",
        "X_train, X_test, y_train, y_test = train_test_split(X, Y, test_size=0.2, random_state=42)\n",
        "\n",
        "# Crear y entrenar el modelo de regresión lineal\n",
        "model = LinearRegression()\n",
        "model.fit(X_train, y_train)\n",
        "\n",
        "# Realizar predicciones con el conjunto de prueba\n",
        "y_pred = model.predict(X_test)\n",
        "\n",
        "# Evaluar el rendimiento del modelo\n",
        "mse = mean_squared_error(y_test, y_pred)\n",
        "rmse = np.sqrt(mse)\n",
        "r2 = r2_score(y_test, y_pred)\n",
        "\n",
        "print(\"--- Evaluación del Modelo ---\")\n",
        "print(f\"Error Cuadrático Medio (MSE): {mse:.4f}\")\n",
        "print(f\"Raíz del Error Cuadrático Medio (RMSE): {rmse:.4f}\")\n",
        "print(f\"Coeficiente de Determinación (R^2): {r2:.4f}\")\n",
        "\n",
        "# Mostrar los coeficientes e intercepto del modelo\n",
        "print(\"\\n--- Coeficientes del Modelo ---\")\n",
        "coeficientes = pd.DataFrame(model.coef_.reshape(-1, len(X.columns)), columns=X.columns, index=['Coeficiente'])\n",
        "print(coeficientes)\n",
        "\n",
        "print(\"\\n--- Intercepto del Modelo ---\")\n",
        "print(f\"Intercepto: {model.intercept_[0]:.4f}\")"
      ]
    },
    {
      "cell_type": "code",
      "source": [
        "import pandas as pd\n",
        "\n",
        "# Creamos un nuevo DataFrame con las notas del estudiante\n",
        "\n",
        "nuevas_notas = pd.DataFrame({\n",
        "    'Nota_01': [16],\n",
        "    'Nota_02': [1],\n",
        "    'Nota_03': [9]\n",
        "})\n",
        "\n",
        "# Usamos el modelo ya entrenado para hacer la predicción\n",
        "prediccion = model.predict(nuevas_notas)\n",
        "\n",
        "# Imprimimos el resultado\n",
        "print(f\"Para las notas: \\n{nuevas_notas}\")\n",
        "print(f\"\\nEl promedio predicho es: {prediccion[0][0]:.2f}\")"
      ],
      "metadata": {
        "colab": {
          "base_uri": "https://localhost:8080/"
        },
        "id": "IaDPnrhM081o",
        "outputId": "e1f5b668-f3b0-4382-faab-8982d3efdff8"
      },
      "execution_count": 3,
      "outputs": [
        {
          "output_type": "stream",
          "name": "stdout",
          "text": [
            "Para las notas: \n",
            "   Nota_01  Nota_02  Nota_03\n",
            "0       16        1        9\n",
            "\n",
            "El promedio predicho es: 9.54\n"
          ]
        }
      ]
    },
    {
      "cell_type": "code",
      "source": [
        "import joblib\n",
        "\n",
        "joblib.dump(model, 'modelo_notas.joblib')\n",
        "\n",
        "# Ahora, descarga este archivo a tu computadora.\n",
        "\n",
        "from google.colab import files\n",
        "files.download('modelo_notas.joblib')"
      ],
      "metadata": {
        "colab": {
          "base_uri": "https://localhost:8080/",
          "height": 17
        },
        "id": "HK1WtejZ1oPw",
        "outputId": "06560faa-93f5-48c8-ecb4-6475c6fefb5a"
      },
      "execution_count": 4,
      "outputs": [
        {
          "output_type": "display_data",
          "data": {
            "text/plain": [
              "<IPython.core.display.Javascript object>"
            ],
            "application/javascript": [
              "\n",
              "    async function download(id, filename, size) {\n",
              "      if (!google.colab.kernel.accessAllowed) {\n",
              "        return;\n",
              "      }\n",
              "      const div = document.createElement('div');\n",
              "      const label = document.createElement('label');\n",
              "      label.textContent = `Downloading \"${filename}\": `;\n",
              "      div.appendChild(label);\n",
              "      const progress = document.createElement('progress');\n",
              "      progress.max = size;\n",
              "      div.appendChild(progress);\n",
              "      document.body.appendChild(div);\n",
              "\n",
              "      const buffers = [];\n",
              "      let downloaded = 0;\n",
              "\n",
              "      const channel = await google.colab.kernel.comms.open(id);\n",
              "      // Send a message to notify the kernel that we're ready.\n",
              "      channel.send({})\n",
              "\n",
              "      for await (const message of channel.messages) {\n",
              "        // Send a message to notify the kernel that we're ready.\n",
              "        channel.send({})\n",
              "        if (message.buffers) {\n",
              "          for (const buffer of message.buffers) {\n",
              "            buffers.push(buffer);\n",
              "            downloaded += buffer.byteLength;\n",
              "            progress.value = downloaded;\n",
              "          }\n",
              "        }\n",
              "      }\n",
              "      const blob = new Blob(buffers, {type: 'application/binary'});\n",
              "      const a = document.createElement('a');\n",
              "      a.href = window.URL.createObjectURL(blob);\n",
              "      a.download = filename;\n",
              "      div.appendChild(a);\n",
              "      a.click();\n",
              "      div.remove();\n",
              "    }\n",
              "  "
            ]
          },
          "metadata": {}
        },
        {
          "output_type": "display_data",
          "data": {
            "text/plain": [
              "<IPython.core.display.Javascript object>"
            ],
            "application/javascript": [
              "download(\"download_47d6de63-824e-455e-ae34-5103d09f2492\", \"modelo_notas.joblib\", 879)"
            ]
          },
          "metadata": {}
        }
      ]
    }
  ]
}